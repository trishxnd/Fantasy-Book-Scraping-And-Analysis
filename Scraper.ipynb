{
 "cells": [
  {
   "cell_type": "code",
   "execution_count": 92,
   "metadata": {},
   "outputs": [],
   "source": [
    "# Uncomment to install libraries if not previously installed \n",
    "# %pip install beautifulsoup4 \n",
    "# %pip install requests\n"
   ]
  },
  {
   "cell_type": "code",
   "execution_count": 93,
   "metadata": {},
   "outputs": [],
   "source": [
    "# Import libraries to build scraper\n",
    "import pandas as pd\n",
    "import requests\n",
    "from bs4 import BeautifulSoup\n"
   ]
  },
  {
   "cell_type": "code",
   "execution_count": 94,
   "metadata": {},
   "outputs": [],
   "source": [
    "url = \"https://www.goodreads.com/shelf/show/fantasy?page=1\"\n",
    "response = requests.get(url)\n",
    "\n",
    "# Check if the request was successful and get html content\n",
    "if response.status_code == 200:\n",
    "    html_content = response.text  \n",
    "    # Parse the HTML content using BeautifulSoup\n",
    "    soup = BeautifulSoup(html_content, \"html.parser\")\n",
    "else:\n",
    "    print(\"Failed to retrieve the web page. Status code:\", response.status_code)\n"
   ]
  },
  {
   "cell_type": "code",
   "execution_count": 95,
   "metadata": {},
   "outputs": [],
   "source": [
    "book_range = soup.find(\"div\", class_=\"mediumText\").get_text().strip()\n",
    "total_books = int(book_range.split()[-1].replace(',', ''))\n"
   ]
  },
  {
   "cell_type": "code",
   "execution_count": 96,
   "metadata": {},
   "outputs": [],
   "source": [
    "items_per_page = 50  # Adjust this based on the actual number of items per page\n",
    "total_pages = (total_books + items_per_page - 1) // items_per_page\n",
    "max_pages_to_scrape = 1\n"
   ]
  },
  {
   "cell_type": "code",
   "execution_count": 97,
   "metadata": {},
   "outputs": [
    {
     "data": {
      "text/plain": [
       "2000"
      ]
     },
     "execution_count": 97,
     "metadata": {},
     "output_type": "execute_result"
    }
   ],
   "source": [
    "total_pages"
   ]
  },
  {
   "cell_type": "code",
   "execution_count": 98,
   "metadata": {},
   "outputs": [],
   "source": [
    "title = []\n",
    "url_list = []\n",
    "authors = []\n",
    "avg_ratings = []\n",
    "rating = []\n",
    "year = []\n"
   ]
  },
  {
   "cell_type": "code",
   "execution_count": 105,
   "metadata": {},
   "outputs": [
    {
     "name": "stdout",
     "output_type": "stream",
     "text": [
      "Skipping a book on page 1 due to missing data.\n",
      "Skipping a book on page 1 due to missing data.\n"
     ]
    }
   ],
   "source": [
    "for page in range(1, min(max_pages_to_scrape, total_pages) + 1):\n",
    "    #Url defined as the first fantasy page \n",
    "    url = f\"https://www.goodreads.com/shelf/show/fantasy?page={page}\"\n",
    "    html_content = requests.get(url).text\n",
    "    soup = BeautifulSoup(html_content, \"html.parser\")\n",
    "    booksOnPage = soup.find_all(\"div\", \"elementList\")\n",
    "\n",
    "    # Iterate through each book element on the current page\n",
    "    for book in booksOnPage:\n",
    "        # Use try-except blocks to handle potential errors if elements are missing\n",
    "        try:\n",
    "            # Extract book details\n",
    "            book_title = book.find(\"a\", \"bookTitle\").text\n",
    "            book_url = \"https://www.goodreads.com\" + \\\n",
    "                book.find(\"a\", \"bookTitle\").get(\"href\")\n",
    "            author = book.find(\"a\", \"authorName\").text\n",
    "            rating_text = book.find(\n",
    "                \"span\", \"greyText smallText\").text.split()\n",
    "            avg_rating = rating_text[2]\n",
    "            ratings = rating_text[4]\n",
    "            published_year = rating_text[-1] if len(rating_text) == 9 else \"\"\n",
    "\n",
    "            # Append the extracted data to their respective lists\n",
    "            title.append(book_title)\n",
    "            url_list.append(book_url)\n",
    "            authors.append(author)\n",
    "            avg_ratings.append(avg_rating)\n",
    "            rating.append(ratings)\n",
    "            year.append(published_year)\n",
    "        except AttributeError:\n",
    "            # Handle the case where an element is not found\n",
    "            print(f\"Skipping a book on page {page} due to missing data.\")\n"
   ]
  },
  {
   "cell_type": "code",
   "execution_count": 127,
   "metadata": {},
   "outputs": [
    {
     "ename": "AttributeError",
     "evalue": "'NoneType' object has no attribute 'text'",
     "output_type": "error",
     "traceback": [
      "\u001b[0;31m---------------------------------------------------------------------------\u001b[0m",
      "\u001b[0;31mAttributeError\u001b[0m                            Traceback (most recent call last)",
      "\u001b[0;32m/var/folders/w4/qp4w9z_j0fq4w1my_04gh1bw0000gn/T/ipykernel_54884/1833126362.py\u001b[0m in \u001b[0;36m<module>\u001b[0;34m\u001b[0m\n\u001b[1;32m      5\u001b[0m \u001b[0mbook_details\u001b[0m \u001b[0;34m=\u001b[0m \u001b[0msoup\u001b[0m\u001b[0;34m.\u001b[0m\u001b[0mfind\u001b[0m\u001b[0;34m(\u001b[0m\u001b[0;34m\"div\"\u001b[0m\u001b[0;34m,\u001b[0m \u001b[0;34m\"FeaturedDetails\"\u001b[0m\u001b[0;34m)\u001b[0m\u001b[0;34m\u001b[0m\u001b[0;34m\u001b[0m\u001b[0m\n\u001b[1;32m      6\u001b[0m format_text = book_details.find(\n\u001b[0;32m----> 7\u001b[0;31m     \"p\", \"pagesFormat\").text.split()\n\u001b[0m\u001b[1;32m      8\u001b[0m \u001b[0;34m\u001b[0m\u001b[0m\n\u001b[1;32m      9\u001b[0m \u001b[0;34m\u001b[0m\u001b[0m\n",
      "\u001b[0;31mAttributeError\u001b[0m: 'NoneType' object has no attribute 'text'"
     ]
    }
   ],
   "source": [
    "\n",
    "url = url_list[0]\n",
    "html_content = requests.get(url).text\n",
    "soup = BeautifulSoup(html_content, \"html.parser\")\n",
    "\n",
    "book_details = soup.find(\"div\", \"FeaturedDetails\")\n",
    "format_text = book_details.find(\n",
    "    \"p\", \"data-testid\": \"pagesFormat\").text.split()\n",
    "\n",
    "\n",
    "\n"
   ]
  },
  {
   "cell_type": "code",
   "execution_count": 122,
   "metadata": {},
   "outputs": [],
   "source": [
    "format_text"
   ]
  },
  {
   "cell_type": "code",
   "execution_count": 80,
   "metadata": {},
   "outputs": [],
   "source": [
    "good_reads = pd.DataFrame({\n",
    "    \"Title\": title,\n",
    "    \"URL\": url_list,\n",
    "    \"Authors\": authors,\n",
    "    \"Avg Ratings\": avg_ratings,\n",
    "    \"Rating\": rating,\n",
    "    \"Published_year\": year\n",
    "})\n"
   ]
  },
  {
   "cell_type": "code",
   "execution_count": 83,
   "metadata": {},
   "outputs": [
    {
     "data": {
      "text/plain": [
       "['https://www.goodreads.com/book/show/15881.Harry_Potter_and_the_Chamber_of_Secrets',\n",
       " 'https://www.goodreads.com/book/show/5907.The_Hobbit',\n",
       " 'https://www.goodreads.com/book/show/1.Harry_Potter_and_the_Half_Blood_Prince',\n",
       " 'https://www.goodreads.com/book/show/13496.A_Game_of_Thrones',\n",
       " 'https://www.goodreads.com/book/show/61215351-the-fellowship-of-the-ring',\n",
       " 'https://www.goodreads.com/book/show/50659467-a-court-of-thorns-and-roses',\n",
       " 'https://www.goodreads.com/book/show/10572.A_Clash_of_Kings',\n",
       " 'https://www.goodreads.com/book/show/61215372-the-two-towers',\n",
       " 'https://www.goodreads.com/book/show/186074.The_Name_of_the_Wind',\n",
       " 'https://www.goodreads.com/book/show/61215384-the-return-of-the-king',\n",
       " 'https://www.goodreads.com/book/show/23437156-six-of-crows',\n",
       " 'https://www.goodreads.com/book/show/68428.The_Final_Empire',\n",
       " 'https://www.goodreads.com/book/show/28187.The_Lightning_Thief',\n",
       " 'https://www.goodreads.com/book/show/100915.The_Lion_the_Witch_and_the_Wardrobe',\n",
       " 'https://www.goodreads.com/book/show/10194157-shadow-and-bone',\n",
       " 'https://www.goodreads.com/book/show/62291.A_Storm_of_Swords',\n",
       " 'https://www.goodreads.com/book/show/76703559-throne-of-glass',\n",
       " 'https://www.goodreads.com/book/show/13497.A_Feast_for_Crows',\n",
       " 'https://www.goodreads.com/book/show/119322.The_Golden_Compass',\n",
       " 'https://www.goodreads.com/book/show/113436.Eragon',\n",
       " 'https://www.goodreads.com/book/show/26032825-the-cruel-prince',\n",
       " 'https://www.goodreads.com/book/show/50659468-a-court-of-mist-and-fury',\n",
       " 'https://www.goodreads.com/book/show/10664113-a-dance-with-dragons',\n",
       " 'https://www.goodreads.com/book/show/30165203-american-gods',\n",
       " 'https://www.goodreads.com/book/show/9361589-the-night-circus',\n",
       " 'https://www.goodreads.com/book/show/256683.City_of_Bones',\n",
       " 'https://www.goodreads.com/book/show/41865.Twilight',\n",
       " 'https://www.goodreads.com/book/show/22055262-a-darker-shade-of-magic',\n",
       " 'https://www.goodreads.com/book/show/7235533-the-way-of-kings',\n",
       " 'https://www.goodreads.com/book/show/12067.Good_Omens',\n",
       " 'https://www.goodreads.com/book/show/50659472-a-court-of-wings-and-ruin',\n",
       " 'https://www.goodreads.com/book/show/22299763-crooked-kingdom',\n",
       " 'https://www.goodreads.com/book/show/16793.Stardust',\n",
       " 'https://www.goodreads.com/book/show/14497.Neverwhere',\n",
       " 'https://www.goodreads.com/book/show/40727118-the-sea-of-monsters',\n",
       " 'https://www.goodreads.com/book/show/76705490-crown-of-midnight',\n",
       " 'https://www.goodreads.com/book/show/1215032.The_Wise_Man_s_Fear',\n",
       " 'https://www.goodreads.com/book/show/68429.The_Well_of_Ascension',\n",
       " 'https://www.goodreads.com/book/show/14061955-siege-and-storm',\n",
       " 'https://www.goodreads.com/book/show/33.The_Lord_of_the_Rings',\n",
       " 'https://www.goodreads.com/book/show/77197.Assassin_s_Apprentice',\n",
       " 'https://www.goodreads.com/book/show/29588376-the-lies-of-locke-lamora',\n",
       " 'https://www.goodreads.com/book/show/29056083-harry-potter-and-the-cursed-child',\n",
       " 'https://www.goodreads.com/book/show/18505792-the-ocean-at-the-end-of-the-lane',\n",
       " 'https://www.goodreads.com/book/show/561456.The_Titan_s_Curse',\n",
       " 'https://www.goodreads.com/book/show/22328546-red-queen',\n",
       " 'https://www.goodreads.com/book/show/3236307-graceling',\n",
       " 'https://www.goodreads.com/book/show/2767793-the-hero-of-ages',\n",
       " 'https://www.goodreads.com/book/show/22544764-uprooted',\n",
       " 'https://www.goodreads.com/book/show/34497.The_Color_of_Magic']"
      ]
     },
     "execution_count": 83,
     "metadata": {},
     "output_type": "execute_result"
    }
   ],
   "source": []
  },
  {
   "cell_type": "code",
   "execution_count": null,
   "metadata": {},
   "outputs": [],
   "source": []
  }
 ],
 "metadata": {
  "kernelspec": {
   "display_name": "mle_tf",
   "language": "python",
   "name": "python3"
  },
  "language_info": {
   "codemirror_mode": {
    "name": "ipython",
    "version": 3
   },
   "file_extension": ".py",
   "mimetype": "text/x-python",
   "name": "python",
   "nbconvert_exporter": "python",
   "pygments_lexer": "ipython3",
   "version": "3.7.13"
  }
 },
 "nbformat": 4,
 "nbformat_minor": 2
}
