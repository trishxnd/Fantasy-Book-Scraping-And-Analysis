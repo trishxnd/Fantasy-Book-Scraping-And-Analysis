{
 "cells": [
  {
   "cell_type": "code",
   "execution_count": 171,
   "metadata": {},
   "outputs": [],
   "source": [
    "# Uncomment to install libraries if not previously installed \n",
    "# %pip install beautifulsoup4 \n",
    "# %pip install requests\n"
   ]
  },
  {
   "cell_type": "code",
   "execution_count": 172,
   "metadata": {},
   "outputs": [],
   "source": [
    "# Import libraries to build scraper\n",
    "import pandas as pd\n",
    "import requests\n",
    "from bs4 import BeautifulSoup\n"
   ]
  },
  {
   "cell_type": "code",
   "execution_count": 173,
   "metadata": {},
   "outputs": [],
   "source": [
    "# Query base URL to make sure response is 200 and scraping is possible\n",
    "url = \"https://www.goodreads.com/shelf/show/fantasy?page=1\"\n",
    "response = requests.get(url)\n",
    "\n",
    "# Check if the request was successful and get html content\n",
    "if response.status_code == 200:\n",
    "    html_content = response.text  \n",
    "    # Parse the HTML content using BeautifulSoup\n",
    "    soup = BeautifulSoup(html_content, \"html.parser\")\n",
    "else:\n",
    "    print(\"Failed to retrieve the web page. Status code:\", response.status_code)\n"
   ]
  },
  {
   "cell_type": "code",
   "execution_count": 174,
   "metadata": {},
   "outputs": [],
   "source": [
    "# Retrieve total number of fantasy books on shelf\n",
    "book_range = soup.find(\"div\", class_=\"mediumText\").get_text().strip()\n",
    "total_books = int(book_range.split()[-1].replace(',', ''))\n"
   ]
  },
  {
   "cell_type": "code",
   "execution_count": 175,
   "metadata": {},
   "outputs": [],
   "source": [
    "# Calculate total number of pages based on items per page and total books\n",
    "items_per_page = 50  \n",
    "total_pages = (total_books + items_per_page - 1) // items_per_page\n",
    "#Used to set maximum number of pages to scrape\n",
    "max_pages_to_scrape = 25\n"
   ]
  },
  {
   "cell_type": "code",
   "execution_count": 176,
   "metadata": {},
   "outputs": [],
   "source": [
    "# Lists used to store individual book data\n",
    "title = []\n",
    "url_list = []\n",
    "authors = []\n",
    "avg_ratings = []\n",
    "rating = []\n",
    "year = []\n",
    "pages = []\n"
   ]
  },
  {
   "cell_type": "code",
   "execution_count": 177,
   "metadata": {},
   "outputs": [
    {
     "name": "stdout",
     "output_type": "stream",
     "text": [
      "Skipping a book on page 1.\n",
      "Skipping a book on page 1.\n",
      "Skipping a book on page 2.\n",
      "Skipping a book on page 2.\n",
      "Skipping a book on page 3.\n",
      "Skipping a book on page 3.\n",
      "Skipping a book on page 4.\n",
      "Skipping a book on page 4.\n",
      "Skipping a book on page 5.\n",
      "Skipping a book on page 5.\n",
      "Skipping a book on page 6.\n",
      "Skipping a book on page 6.\n",
      "Skipping a book on page 7.\n",
      "Skipping a book on page 7.\n",
      "Skipping a book on page 8.\n",
      "Skipping a book on page 8.\n",
      "Skipping a book on page 9.\n",
      "Skipping a book on page 9.\n",
      "Skipping a book on page 10.\n",
      "Skipping a book on page 10.\n",
      "Skipping a book on page 12.\n",
      "Skipping a book on page 12.\n",
      "Skipping a book on page 13.\n",
      "Skipping a book on page 13.\n",
      "Skipping a book on page 14.\n",
      "Skipping a book on page 14.\n",
      "Skipping a book on page 15.\n",
      "Skipping a book on page 15.\n",
      "Skipping a book on page 16.\n",
      "Skipping a book on page 16.\n",
      "Skipping a book on page 17.\n",
      "Skipping a book on page 17.\n",
      "Skipping a book on page 18.\n",
      "Skipping a book on page 18.\n",
      "Skipping a book on page 19.\n",
      "Skipping a book on page 19.\n",
      "Skipping a book on page 20.\n",
      "Skipping a book on page 20.\n",
      "Skipping a book on page 21.\n",
      "Skipping a book on page 21.\n",
      "Skipping a book on page 22.\n",
      "Skipping a book on page 22.\n",
      "Skipping a book on page 23.\n",
      "Skipping a book on page 23.\n",
      "Skipping a book on page 24.\n",
      "Skipping a book on page 24.\n",
      "Skipping a book on page 25.\n",
      "Skipping a book on page 25.\n"
     ]
    }
   ],
   "source": [
    "# Iterate through every page and store book information as defined in lists\n",
    "for page in range(1, min(max_pages_to_scrape, total_pages) + 1):\n",
    "\n",
    "    url = f\"https://www.goodreads.com/shelf/show/fantasy?page={page}\"\n",
    "    html_content = requests.get(url).text\n",
    "    soup = BeautifulSoup(html_content, \"html.parser\")\n",
    "    booksOnPage = soup.find_all(\"div\", \"elementList\")\n",
    "\n",
    "    # Iterate through each book on the current page\n",
    "    for book in booksOnPage:\n",
    "        # Use try-except blocks to handle potential errors if elements are missing\n",
    "        try:\n",
    "            # Extract book details\n",
    "            book_title = book.find(\"a\", \"bookTitle\").text\n",
    "            book_url = \"https://www.goodreads.com\" + \\\n",
    "                book.find(\"a\", \"bookTitle\").get(\"href\")\n",
    "            author = book.find(\"a\", \"authorName\").text\n",
    "            rating_text = book.find(\n",
    "                \"span\", \"greyText smallText\").text.split()\n",
    "            avg_rating = rating_text[2]\n",
    "            ratings = rating_text[4]\n",
    "            published_year = rating_text[-1] if len(rating_text) == 9 else \"\"\n",
    "\n",
    "            # Append the extracted data to their respective lists\n",
    "            title.append(book_title)\n",
    "            url_list.append(book_url)\n",
    "            authors.append(author)\n",
    "            avg_ratings.append(avg_rating)\n",
    "            rating.append(ratings)\n",
    "            year.append(published_year)\n",
    "        except AttributeError:\n",
    "            # Handle the case where an element is not found\n",
    "            print(f\"Skipping a book on page {page}.\")\n"
   ]
  },
  {
   "cell_type": "code",
   "execution_count": 192,
   "metadata": {},
   "outputs": [],
   "source": [
    "\n",
    "#Perform an additional request to each of the book urls to get their page# data\n",
    "for url in url_list:\n",
    "         \n",
    "    try:\n",
    "        html_content = requests.get(url).text\n",
    "        soup = BeautifulSoup(html_content, \"html.parser\")\n",
    "\n",
    "        book_details = soup.find(\"div\", \"FeaturedDetails\")\n",
    "        format_text = book_details.find(\n",
    "            \"p\", {\"data-testid\": \"pagesFormat\"}).text.split()\n",
    "        \n",
    "        num_pages = format_text[0]\n",
    "        pages.append(num_pages)\n",
    "        \n",
    "    except AttributeError:\n",
    "            print('Page element not found')\n",
    "\n",
    "\n",
    "\n"
   ]
  },
  {
   "cell_type": "code",
   "execution_count": 195,
   "metadata": {},
   "outputs": [],
   "source": [
    "#Convert to dataframe ready to export\n",
    "df = pd.DataFrame({\n",
    "    \"Title\": title,\n",
    "    \"URL\": url_list,\n",
    "    \"Authors\": authors,\n",
    "    \"Avg Ratings\": avg_ratings,\n",
    "    \"Rating\": rating,\n",
    "    \"Published_year\": year,\n",
    "    \"Pages\": pages\n",
    "})\n"
   ]
  },
  {
   "cell_type": "code",
   "execution_count": 198,
   "metadata": {},
   "outputs": [
    {
     "name": "stdout",
     "output_type": "stream",
     "text": [
      "<class 'pandas.core.frame.DataFrame'>\n",
      "RangeIndex: 1200 entries, 0 to 1199\n",
      "Data columns (total 7 columns):\n",
      " #   Column          Non-Null Count  Dtype \n",
      "---  ------          --------------  ----- \n",
      " 0   Title           1200 non-null   object\n",
      " 1   URL             1200 non-null   object\n",
      " 2   Authors         1200 non-null   object\n",
      " 3   Avg Ratings     1200 non-null   object\n",
      " 4   Rating          1200 non-null   object\n",
      " 5   Published_year  1200 non-null   object\n",
      " 6   Pages           1200 non-null   object\n",
      "dtypes: object(7)\n",
      "memory usage: 65.8+ KB\n"
     ]
    }
   ],
   "source": []
  },
  {
   "cell_type": "code",
   "execution_count": 197,
   "metadata": {},
   "outputs": [],
   "source": [
    "df.to_csv('book_data.csv')"
   ]
  }
 ],
 "metadata": {
  "kernelspec": {
   "display_name": "mle_tf",
   "language": "python",
   "name": "python3"
  },
  "language_info": {
   "codemirror_mode": {
    "name": "ipython",
    "version": 3
   },
   "file_extension": ".py",
   "mimetype": "text/x-python",
   "name": "python",
   "nbconvert_exporter": "python",
   "pygments_lexer": "ipython3",
   "version": "3.7.13"
  }
 },
 "nbformat": 4,
 "nbformat_minor": 2
}
