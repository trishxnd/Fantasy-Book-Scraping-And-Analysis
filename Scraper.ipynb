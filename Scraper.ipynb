{
 "cells": [
  {
   "cell_type": "code",
   "execution_count": 106,
   "metadata": {},
   "outputs": [],
   "source": [
    "# uncomment to install libraries if not previously installed \n",
    "#!pip install pandas\n",
    "#!pip install zipfile\n",
    "#!pip install kaggle\n",
    "\n",
    "\n",
    "import pandas as pd\n",
    "import zipfile\n",
    "import kaggle"
   ]
  },
  {
   "cell_type": "code",
   "execution_count": 107,
   "metadata": {},
   "outputs": [
    {
     "name": "stdout",
     "output_type": "stream",
     "text": [
      "Warning: Your Kaggle API key is readable by other users on this system! To fix this, you can run 'chmod 600 /Users/iyuddissanayke/.kaggle/kaggle.json'\n",
      "amazon-kindle-books-dataset-2023-130k-books.zip: Skipping, found more recently modified local copy (use --force to force download)\n"
     ]
    }
   ],
   "source": [
    "# download shopping trends dataset from Kaggle\n",
    "!kaggle datasets download -d asaniczka/amazon-kindle-books-dataset-2023-130k-books"
   ]
  },
  {
   "cell_type": "code",
   "execution_count": 108,
   "metadata": {},
   "outputs": [],
   "source": [
    "# extract contents of zip file in order to access csv\n",
    "zipfile_name = 'amazon-kindle-books-dataset-2023-130k-books.zip'\n",
    "with zipfile.ZipFile(zipfile_name, 'r') as file:\n",
    "    file.extractall()\n"
   ]
  },
  {
   "cell_type": "code",
   "execution_count": 109,
   "metadata": {},
   "outputs": [],
   "source": [
    "# read in shopping trends csv\n",
    "df = pd.read_csv('kindle_data-v2.csv')\n"
   ]
  },
  {
   "cell_type": "code",
   "execution_count": 110,
   "metadata": {},
   "outputs": [
    {
     "name": "stdout",
     "output_type": "stream",
     "text": [
      "<class 'pandas.core.frame.DataFrame'>\n",
      "RangeIndex: 133102 entries, 0 to 133101\n",
      "Data columns (total 16 columns):\n",
      " #   Column             Non-Null Count   Dtype  \n",
      "---  ------             --------------   -----  \n",
      " 0   asin               133102 non-null  object \n",
      " 1   title              133102 non-null  object \n",
      " 2   author             132677 non-null  object \n",
      " 3   soldBy             123869 non-null  object \n",
      " 4   imgUrl             133102 non-null  object \n",
      " 5   productURL         133102 non-null  object \n",
      " 6   stars              133102 non-null  float64\n",
      " 7   reviews            133102 non-null  int64  \n",
      " 8   price              133102 non-null  float64\n",
      " 9   isKindleUnlimited  133102 non-null  bool   \n",
      " 10  category_id        133102 non-null  int64  \n",
      " 11  isBestSeller       133102 non-null  bool   \n",
      " 12  isEditorsPick      133102 non-null  bool   \n",
      " 13  isGoodReadsChoice  133102 non-null  bool   \n",
      " 14  publishedDate      84086 non-null   object \n",
      " 15  category_name      133102 non-null  object \n",
      "dtypes: bool(4), float64(2), int64(2), object(8)\n",
      "memory usage: 12.7+ MB\n"
     ]
    }
   ],
   "source": [
    "# check to see column information and if data types need to be converted to perform analysis\n",
    "df.info()"
   ]
  },
  {
   "cell_type": "code",
   "execution_count": 111,
   "metadata": {},
   "outputs": [
    {
     "data": {
      "text/plain": [
       "asin                     0\n",
       "title                    0\n",
       "author                 425\n",
       "soldBy                9233\n",
       "imgUrl                   0\n",
       "productURL               0\n",
       "stars                    0\n",
       "reviews                  0\n",
       "price                    0\n",
       "isKindleUnlimited        0\n",
       "category_id              0\n",
       "isBestSeller             0\n",
       "isEditorsPick            0\n",
       "isGoodReadsChoice        0\n",
       "publishedDate        49016\n",
       "category_name            0\n",
       "dtype: int64"
      ]
     },
     "execution_count": 111,
     "metadata": {},
     "output_type": "execute_result"
    }
   ],
   "source": [
    "# check for null values in each column in the event of needing imputation or otherwise\n",
    "df.isnull().sum()"
   ]
  },
  {
   "cell_type": "code",
   "execution_count": 112,
   "metadata": {},
   "outputs": [
    {
     "data": {
      "text/plain": [
       "(133102, 16)"
      ]
     },
     "execution_count": 112,
     "metadata": {},
     "output_type": "execute_result"
    }
   ],
   "source": [
    "df.shape"
   ]
  },
  {
   "cell_type": "code",
   "execution_count": 113,
   "metadata": {},
   "outputs": [],
   "source": [
    "# creating subset of relevant columns for analysis\n",
    "my_cols = {'title', 'author', 'stars', 'price', 'isBestSeller', 'category_name', 'isGoodReadsChoice', 'isGoodReadsChoice', 'publishedDate'}\n",
    "\n",
    "# renaming relevant columns to appropriate names to improve readability\n",
    "new_cols= {\n",
    "    'title': 'title',\n",
    "    'author': 'author',\n",
    "    'stars': 'rating',\n",
    "    'price': 'price $',\n",
    "    'isBestSeller': 'isBestSeller',\n",
    "    'category_name': 'genre',\n",
    "    'isGoodReadsChoice': 'isGoodReadsChoice',\n",
    "    'publishedDate' : 'publishedDate'\n",
    "}"
   ]
  },
  {
   "cell_type": "code",
   "execution_count": 114,
   "metadata": {},
   "outputs": [],
   "source": [
    "# indexing desired columns and renaming as per the mapping above\n",
    "df = df[my_cols]\n",
    "df.rename(new_cols, axis=1, inplace=True)\n"
   ]
  },
  {
   "cell_type": "code",
   "execution_count": 115,
   "metadata": {},
   "outputs": [
    {
     "data": {
      "text/html": [
       "<div>\n",
       "<style scoped>\n",
       "    .dataframe tbody tr th:only-of-type {\n",
       "        vertical-align: middle;\n",
       "    }\n",
       "\n",
       "    .dataframe tbody tr th {\n",
       "        vertical-align: top;\n",
       "    }\n",
       "\n",
       "    .dataframe thead th {\n",
       "        text-align: right;\n",
       "    }\n",
       "</style>\n",
       "<table border=\"1\" class=\"dataframe\">\n",
       "  <thead>\n",
       "    <tr style=\"text-align: right;\">\n",
       "      <th></th>\n",
       "      <th>title</th>\n",
       "      <th>price $</th>\n",
       "      <th>genre</th>\n",
       "      <th>isGoodReadsChoice</th>\n",
       "      <th>rating</th>\n",
       "      <th>author</th>\n",
       "      <th>publishedDate</th>\n",
       "      <th>isBestSeller</th>\n",
       "    </tr>\n",
       "  </thead>\n",
       "  <tbody>\n",
       "    <tr>\n",
       "      <th>0</th>\n",
       "      <td>Adult Children of Emotionally Immature Parents...</td>\n",
       "      <td>9.99</td>\n",
       "      <td>Parenting &amp; Relationships</td>\n",
       "      <td>False</td>\n",
       "      <td>4.8</td>\n",
       "      <td>Lindsay C. Gibson</td>\n",
       "      <td>2015-06-01</td>\n",
       "      <td>True</td>\n",
       "    </tr>\n",
       "    <tr>\n",
       "      <th>1</th>\n",
       "      <td>From Strength to Strength: Finding Success, Ha...</td>\n",
       "      <td>16.99</td>\n",
       "      <td>Parenting &amp; Relationships</td>\n",
       "      <td>False</td>\n",
       "      <td>4.4</td>\n",
       "      <td>Arthur C. Brooks</td>\n",
       "      <td>2022-02-15</td>\n",
       "      <td>False</td>\n",
       "    </tr>\n",
       "    <tr>\n",
       "      <th>2</th>\n",
       "      <td>Good Inside: A Guide to Becoming the Parent Yo...</td>\n",
       "      <td>16.99</td>\n",
       "      <td>Parenting &amp; Relationships</td>\n",
       "      <td>False</td>\n",
       "      <td>4.8</td>\n",
       "      <td>Becky Kennedy</td>\n",
       "      <td>2022-09-13</td>\n",
       "      <td>False</td>\n",
       "    </tr>\n",
       "    <tr>\n",
       "      <th>3</th>\n",
       "      <td>Everything I Know About Love: A Memoir</td>\n",
       "      <td>9.95</td>\n",
       "      <td>Parenting &amp; Relationships</td>\n",
       "      <td>False</td>\n",
       "      <td>4.2</td>\n",
       "      <td>Dolly Alderton</td>\n",
       "      <td>2020-02-25</td>\n",
       "      <td>False</td>\n",
       "    </tr>\n",
       "    <tr>\n",
       "      <th>4</th>\n",
       "      <td>The Seven Principles for Making Marriage Work:...</td>\n",
       "      <td>13.99</td>\n",
       "      <td>Parenting &amp; Relationships</td>\n",
       "      <td>False</td>\n",
       "      <td>4.7</td>\n",
       "      <td>John Gottman</td>\n",
       "      <td>2015-05-05</td>\n",
       "      <td>False</td>\n",
       "    </tr>\n",
       "  </tbody>\n",
       "</table>\n",
       "</div>"
      ],
      "text/plain": [
       "                                               title  price $  \\\n",
       "0  Adult Children of Emotionally Immature Parents...     9.99   \n",
       "1  From Strength to Strength: Finding Success, Ha...    16.99   \n",
       "2  Good Inside: A Guide to Becoming the Parent Yo...    16.99   \n",
       "3             Everything I Know About Love: A Memoir     9.95   \n",
       "4  The Seven Principles for Making Marriage Work:...    13.99   \n",
       "\n",
       "                       genre  isGoodReadsChoice  rating             author  \\\n",
       "0  Parenting & Relationships              False     4.8  Lindsay C. Gibson   \n",
       "1  Parenting & Relationships              False     4.4   Arthur C. Brooks   \n",
       "2  Parenting & Relationships              False     4.8      Becky Kennedy   \n",
       "3  Parenting & Relationships              False     4.2     Dolly Alderton   \n",
       "4  Parenting & Relationships              False     4.7       John Gottman   \n",
       "\n",
       "  publishedDate  isBestSeller  \n",
       "0    2015-06-01          True  \n",
       "1    2022-02-15         False  \n",
       "2    2022-09-13         False  \n",
       "3    2020-02-25         False  \n",
       "4    2015-05-05         False  "
      ]
     },
     "execution_count": 115,
     "metadata": {},
     "output_type": "execute_result"
    }
   ],
   "source": [
    "# check to see if correct columns were indexed and renamed as stated\n",
    "df.head()"
   ]
  },
  {
   "cell_type": "code",
   "execution_count": 116,
   "metadata": {},
   "outputs": [],
   "source": [
    "# writing dataframe to excel file to use inside of Tableau to conduct visualisations\n",
    "df.to_excel('amazon_kindle_final.xlsx', sheet_name='Data')"
   ]
  }
 ],
 "metadata": {
  "kernelspec": {
   "display_name": "mle_tf",
   "language": "python",
   "name": "python3"
  },
  "language_info": {
   "codemirror_mode": {
    "name": "ipython",
    "version": 3
   },
   "file_extension": ".py",
   "mimetype": "text/x-python",
   "name": "python",
   "nbconvert_exporter": "python",
   "pygments_lexer": "ipython3",
   "version": "3.7.13"
  }
 },
 "nbformat": 4,
 "nbformat_minor": 2
}
